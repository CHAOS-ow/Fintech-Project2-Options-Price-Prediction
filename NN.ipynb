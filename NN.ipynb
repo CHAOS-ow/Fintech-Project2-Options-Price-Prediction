{
 "cells": [
  {
   "cell_type": "markdown",
   "id": "667a6435-2096-40f8-a078-3751081c687a",
   "metadata": {},
   "source": []
  },
  {
   "cell_type": "code",
   "execution_count": 52,
   "id": "32658d26-92e9-4c16-a9ad-d9fe1ca010fc",
   "metadata": {},
   "outputs": [],
   "source": [
    "from pathlib import Path\n",
    "import pandas as pd\n",
    "from sklearn.model_selection import train_test_split\n",
    "from sklearn.preprocessing import StandardScaler\n",
    "from tensorflow.keras.models import Sequential\n",
    "from tensorflow.keras.layers import Dense"
   ]
  },
  {
   "cell_type": "markdown",
   "id": "bd993750-461f-45b5-889f-d0cfe382fe78",
   "metadata": {},
   "source": [
    "## Load and process data"
   ]
  },
  {
   "cell_type": "code",
   "execution_count": 39,
   "id": "02155b5e-5618-4c18-9c48-e952c3f90aa2",
   "metadata": {},
   "outputs": [
    {
     "data": {
      "text/html": [
       "<div>\n",
       "<style scoped>\n",
       "    .dataframe tbody tr th:only-of-type {\n",
       "        vertical-align: middle;\n",
       "    }\n",
       "\n",
       "    .dataframe tbody tr th {\n",
       "        vertical-align: top;\n",
       "    }\n",
       "\n",
       "    .dataframe thead th {\n",
       "        text-align: right;\n",
       "    }\n",
       "</style>\n",
       "<table border=\"1\" class=\"dataframe\">\n",
       "  <thead>\n",
       "    <tr style=\"text-align: right;\">\n",
       "      <th></th>\n",
       "      <th>Close</th>\n",
       "    </tr>\n",
       "    <tr>\n",
       "      <th>Date</th>\n",
       "      <th></th>\n",
       "    </tr>\n",
       "  </thead>\n",
       "  <tbody>\n",
       "    <tr>\n",
       "      <th>2021-07-19</th>\n",
       "      <td>274.766388</td>\n",
       "    </tr>\n",
       "    <tr>\n",
       "      <th>2021-07-20</th>\n",
       "      <td>277.057678</td>\n",
       "    </tr>\n",
       "    <tr>\n",
       "      <th>2021-07-21</th>\n",
       "      <td>279.120789</td>\n",
       "    </tr>\n",
       "    <tr>\n",
       "      <th>2021-07-22</th>\n",
       "      <td>283.822449</td>\n",
       "    </tr>\n",
       "    <tr>\n",
       "      <th>2021-07-23</th>\n",
       "      <td>287.323822</td>\n",
       "    </tr>\n",
       "  </tbody>\n",
       "</table>\n",
       "</div>"
      ],
      "text/plain": [
       "                 Close\n",
       "Date                  \n",
       "2021-07-19  274.766388\n",
       "2021-07-20  277.057678\n",
       "2021-07-21  279.120789\n",
       "2021-07-22  283.822449\n",
       "2021-07-23  287.323822"
      ]
     },
     "execution_count": 39,
     "metadata": {},
     "output_type": "execute_result"
    }
   ],
   "source": [
    "# load and process data\n",
    "raw_df = pd.read_csv(\n",
    "    Path(\"data.csv\"),\n",
    "    index_col=\"Date\"\n",
    ")\n",
    "raw_df.head()"
   ]
  },
  {
   "cell_type": "code",
   "execution_count": 40,
   "id": "c83b55e8-6b14-4d02-9dbf-8dddf4bdabf9",
   "metadata": {},
   "outputs": [],
   "source": [
    "raw_df['pct_change'] = raw_df.pct_change()\n",
    "df = raw_df.dropna()"
   ]
  },
  {
   "cell_type": "code",
   "execution_count": 41,
   "id": "2a8364de-6e5a-4c08-8a9e-0cb980147b6e",
   "metadata": {},
   "outputs": [
    {
     "data": {
      "text/html": [
       "<div>\n",
       "<style scoped>\n",
       "    .dataframe tbody tr th:only-of-type {\n",
       "        vertical-align: middle;\n",
       "    }\n",
       "\n",
       "    .dataframe tbody tr th {\n",
       "        vertical-align: top;\n",
       "    }\n",
       "\n",
       "    .dataframe thead th {\n",
       "        text-align: right;\n",
       "    }\n",
       "</style>\n",
       "<table border=\"1\" class=\"dataframe\">\n",
       "  <thead>\n",
       "    <tr style=\"text-align: right;\">\n",
       "      <th></th>\n",
       "      <th>Close</th>\n",
       "      <th>pct_change</th>\n",
       "    </tr>\n",
       "    <tr>\n",
       "      <th>Date</th>\n",
       "      <th></th>\n",
       "      <th></th>\n",
       "    </tr>\n",
       "  </thead>\n",
       "  <tbody>\n",
       "    <tr>\n",
       "      <th>2021-07-20</th>\n",
       "      <td>277.057678</td>\n",
       "      <td>0.008339</td>\n",
       "    </tr>\n",
       "    <tr>\n",
       "      <th>2021-07-21</th>\n",
       "      <td>279.120789</td>\n",
       "      <td>0.007447</td>\n",
       "    </tr>\n",
       "    <tr>\n",
       "      <th>2021-07-22</th>\n",
       "      <td>283.822449</td>\n",
       "      <td>0.016845</td>\n",
       "    </tr>\n",
       "    <tr>\n",
       "      <th>2021-07-23</th>\n",
       "      <td>287.323822</td>\n",
       "      <td>0.012336</td>\n",
       "    </tr>\n",
       "    <tr>\n",
       "      <th>2021-07-26</th>\n",
       "      <td>286.708832</td>\n",
       "      <td>-0.002140</td>\n",
       "    </tr>\n",
       "  </tbody>\n",
       "</table>\n",
       "</div>"
      ],
      "text/plain": [
       "                 Close  pct_change\n",
       "Date                              \n",
       "2021-07-20  277.057678    0.008339\n",
       "2021-07-21  279.120789    0.007447\n",
       "2021-07-22  283.822449    0.016845\n",
       "2021-07-23  287.323822    0.012336\n",
       "2021-07-26  286.708832   -0.002140"
      ]
     },
     "execution_count": 41,
     "metadata": {},
     "output_type": "execute_result"
    }
   ],
   "source": [
    "df.head()"
   ]
  },
  {
   "cell_type": "code",
   "execution_count": 42,
   "id": "72ecaa4e-e3ad-476b-819b-684bdeee2ab2",
   "metadata": {},
   "outputs": [],
   "source": [
    "# Separate the data into y and X\n",
    "y = df[\"pct_change\"]\n",
    "# The \"X\" column should be all the features\n",
    "X = df.drop(columns=\"pct_change\")"
   ]
  },
  {
   "cell_type": "code",
   "execution_count": 46,
   "id": "4369da75-3bc4-4abf-81c4-29d8ce83316d",
   "metadata": {},
   "outputs": [],
   "source": [
    "X_train, X_test, y_train, y_test = train_test_split(X, y, random_state=1)"
   ]
  },
  {
   "cell_type": "code",
   "execution_count": 66,
   "id": "fa411e26-643c-4c5b-9a5d-c1bb9783e185",
   "metadata": {},
   "outputs": [
    {
     "data": {
      "text/plain": [
       "(187, 1)"
      ]
     },
     "execution_count": 66,
     "metadata": {},
     "output_type": "execute_result"
    }
   ],
   "source": []
  },
  {
   "cell_type": "code",
   "execution_count": 50,
   "id": "e5403fe5-ec12-412a-bdba-a1220f183b4d",
   "metadata": {},
   "outputs": [],
   "source": [
    "# Create the scaler instance\n",
    "X_scaler = StandardScaler()\n",
    "\n",
    "# Fit the scaler\n",
    "X_scaler.fit(X_train)\n",
    "\n",
    "# Scale the data\n",
    "X_train_scaled = X_scaler.transform(X_train)\n",
    "X_test_scaled = X_scaler.transform(X_test)"
   ]
  },
  {
   "cell_type": "markdown",
   "id": "7a66306f-39fe-4fbc-879e-59951a905024",
   "metadata": {},
   "source": [
    "## create and compile model"
   ]
  },
  {
   "cell_type": "code",
   "execution_count": 67,
   "id": "bd3f4dd9-6ed8-4745-aa7f-c3ed815636e4",
   "metadata": {},
   "outputs": [],
   "source": [
    "model = Sequential()"
   ]
  },
  {
   "cell_type": "code",
   "execution_count": 68,
   "id": "d4018ff5-ef45-4ae7-8816-30d0cb73239b",
   "metadata": {},
   "outputs": [],
   "source": [
    "number_inputs = 1\n",
    "number_hidden_nodes = 3\n",
    "\n",
    "model.add(Dense(units=number_hidden_nodes, activation=\"relu\", input_dim=number_inputs))"
   ]
  },
  {
   "cell_type": "code",
   "execution_count": 69,
   "id": "68871822-7384-4a7c-9b47-15a8e8f62a52",
   "metadata": {},
   "outputs": [],
   "source": [
    "number_classes = 1\n",
    "\n",
    "model.add(Dense(units=number_classes, activation=\"sigmoid\"))"
   ]
  },
  {
   "cell_type": "code",
   "execution_count": 70,
   "id": "618f93fd-407b-4262-8426-93e6eac7b646",
   "metadata": {},
   "outputs": [],
   "source": [
    "model.compile(loss=\"binary_crossentropy\", optimizer=\"adam\", metrics=[\"accuracy\"])"
   ]
  },
  {
   "cell_type": "markdown",
   "id": "83a988f2-19d3-47d2-8548-869ea4f7d81c",
   "metadata": {},
   "source": [
    "## fit and evaluate"
   ]
  },
  {
   "cell_type": "code",
   "execution_count": 76,
   "id": "50aacf4d-3122-4e82-8c3b-9974dbf17ba0",
   "metadata": {},
   "outputs": [
    {
     "name": "stdout",
     "output_type": "stream",
     "text": [
      "Epoch 1/100\n",
      "6/6 [==============================] - 0s 3ms/step - loss: 0.1174 - accuracy: 0.0053\n",
      "Epoch 2/100\n",
      "6/6 [==============================] - 0s 3ms/step - loss: 0.1154 - accuracy: 0.0053\n",
      "Epoch 3/100\n",
      "6/6 [==============================] - 0s 3ms/step - loss: 0.1135 - accuracy: 0.0053\n",
      "Epoch 4/100\n",
      "6/6 [==============================] - 0s 3ms/step - loss: 0.1117 - accuracy: 0.0053\n",
      "Epoch 5/100\n",
      "6/6 [==============================] - 0s 3ms/step - loss: 0.1098 - accuracy: 0.0053\n",
      "Epoch 6/100\n",
      "6/6 [==============================] - 0s 3ms/step - loss: 0.1080 - accuracy: 0.0053\n",
      "Epoch 7/100\n",
      "6/6 [==============================] - 0s 4ms/step - loss: 0.1063 - accuracy: 0.0053\n",
      "Epoch 8/100\n",
      "6/6 [==============================] - 0s 3ms/step - loss: 0.1046 - accuracy: 0.0053\n",
      "Epoch 9/100\n",
      "6/6 [==============================] - 0s 3ms/step - loss: 0.1029 - accuracy: 0.0053\n",
      "Epoch 10/100\n",
      "6/6 [==============================] - 0s 3ms/step - loss: 0.1012 - accuracy: 0.0053\n",
      "Epoch 11/100\n",
      "6/6 [==============================] - 0s 3ms/step - loss: 0.0996 - accuracy: 0.0053\n",
      "Epoch 12/100\n",
      "6/6 [==============================] - 0s 3ms/step - loss: 0.0980 - accuracy: 0.0053\n",
      "Epoch 13/100\n",
      "6/6 [==============================] - 0s 3ms/step - loss: 0.0965 - accuracy: 0.0053\n",
      "Epoch 14/100\n",
      "6/6 [==============================] - 0s 3ms/step - loss: 0.0950 - accuracy: 0.0053\n",
      "Epoch 15/100\n",
      "6/6 [==============================] - 0s 3ms/step - loss: 0.0935 - accuracy: 0.0053\n",
      "Epoch 16/100\n",
      "6/6 [==============================] - 0s 3ms/step - loss: 0.0920 - accuracy: 0.0053\n",
      "Epoch 17/100\n",
      "6/6 [==============================] - 0s 3ms/step - loss: 0.0906 - accuracy: 0.0053\n",
      "Epoch 18/100\n",
      "6/6 [==============================] - 0s 3ms/step - loss: 0.0892 - accuracy: 0.0053\n",
      "Epoch 19/100\n",
      "6/6 [==============================] - 0s 3ms/step - loss: 0.0878 - accuracy: 0.0053\n",
      "Epoch 20/100\n",
      "6/6 [==============================] - 0s 3ms/step - loss: 0.0865 - accuracy: 0.0053\n",
      "Epoch 21/100\n",
      "6/6 [==============================] - 0s 3ms/step - loss: 0.0851 - accuracy: 0.0053\n",
      "Epoch 22/100\n",
      "6/6 [==============================] - 0s 3ms/step - loss: 0.0839 - accuracy: 0.0053\n",
      "Epoch 23/100\n",
      "6/6 [==============================] - 0s 3ms/step - loss: 0.0826 - accuracy: 0.0053\n",
      "Epoch 24/100\n",
      "6/6 [==============================] - 0s 3ms/step - loss: 0.0814 - accuracy: 0.0053\n",
      "Epoch 25/100\n",
      "6/6 [==============================] - 0s 3ms/step - loss: 0.0802 - accuracy: 0.0053\n",
      "Epoch 26/100\n",
      "6/6 [==============================] - 0s 3ms/step - loss: 0.0790 - accuracy: 0.0053\n",
      "Epoch 27/100\n",
      "6/6 [==============================] - 0s 3ms/step - loss: 0.0778 - accuracy: 0.0053\n",
      "Epoch 28/100\n",
      "6/6 [==============================] - 0s 3ms/step - loss: 0.0767 - accuracy: 0.0053\n",
      "Epoch 29/100\n",
      "6/6 [==============================] - 0s 4ms/step - loss: 0.0756 - accuracy: 0.0053\n",
      "Epoch 30/100\n",
      "6/6 [==============================] - 0s 3ms/step - loss: 0.0744 - accuracy: 0.0053\n",
      "Epoch 31/100\n",
      "6/6 [==============================] - 0s 3ms/step - loss: 0.0734 - accuracy: 0.0053\n",
      "Epoch 32/100\n",
      "6/6 [==============================] - 0s 3ms/step - loss: 0.0724 - accuracy: 0.0053\n",
      "Epoch 33/100\n",
      "6/6 [==============================] - 0s 3ms/step - loss: 0.0713 - accuracy: 0.0053\n",
      "Epoch 34/100\n",
      "6/6 [==============================] - 0s 3ms/step - loss: 0.0703 - accuracy: 0.0053\n",
      "Epoch 35/100\n",
      "6/6 [==============================] - 0s 3ms/step - loss: 0.0693 - accuracy: 0.0053\n",
      "Epoch 36/100\n",
      "6/6 [==============================] - 0s 3ms/step - loss: 0.0684 - accuracy: 0.0053\n",
      "Epoch 37/100\n",
      "6/6 [==============================] - 0s 3ms/step - loss: 0.0674 - accuracy: 0.0053\n",
      "Epoch 38/100\n",
      "6/6 [==============================] - 0s 3ms/step - loss: 0.0665 - accuracy: 0.0053\n",
      "Epoch 39/100\n",
      "6/6 [==============================] - 0s 3ms/step - loss: 0.0656 - accuracy: 0.0053\n",
      "Epoch 40/100\n",
      "6/6 [==============================] - 0s 3ms/step - loss: 0.0647 - accuracy: 0.0053\n",
      "Epoch 41/100\n",
      "6/6 [==============================] - 0s 3ms/step - loss: 0.0638 - accuracy: 0.0053\n",
      "Epoch 42/100\n",
      "6/6 [==============================] - 0s 3ms/step - loss: 0.0629 - accuracy: 0.0053\n",
      "Epoch 43/100\n",
      "6/6 [==============================] - 0s 3ms/step - loss: 0.0621 - accuracy: 0.0053\n",
      "Epoch 44/100\n",
      "6/6 [==============================] - 0s 3ms/step - loss: 0.0613 - accuracy: 0.0053\n",
      "Epoch 45/100\n",
      "6/6 [==============================] - 0s 3ms/step - loss: 0.0605 - accuracy: 0.0053\n",
      "Epoch 46/100\n",
      "6/6 [==============================] - 0s 3ms/step - loss: 0.0597 - accuracy: 0.0053\n",
      "Epoch 47/100\n",
      "6/6 [==============================] - 0s 3ms/step - loss: 0.0589 - accuracy: 0.0053\n",
      "Epoch 48/100\n",
      "6/6 [==============================] - 0s 3ms/step - loss: 0.0581 - accuracy: 0.0053\n",
      "Epoch 49/100\n",
      "6/6 [==============================] - 0s 3ms/step - loss: 0.0574 - accuracy: 0.0053\n",
      "Epoch 50/100\n",
      "6/6 [==============================] - 0s 3ms/step - loss: 0.0566 - accuracy: 0.0053\n",
      "Epoch 51/100\n",
      "6/6 [==============================] - 0s 3ms/step - loss: 0.0559 - accuracy: 0.0053\n",
      "Epoch 52/100\n",
      "6/6 [==============================] - 0s 3ms/step - loss: 0.0552 - accuracy: 0.0053\n",
      "Epoch 53/100\n",
      "6/6 [==============================] - 0s 3ms/step - loss: 0.0545 - accuracy: 0.0053\n",
      "Epoch 54/100\n",
      "6/6 [==============================] - 0s 3ms/step - loss: 0.0538 - accuracy: 0.0053\n",
      "Epoch 55/100\n",
      "6/6 [==============================] - 0s 3ms/step - loss: 0.0532 - accuracy: 0.0053\n",
      "Epoch 56/100\n",
      "6/6 [==============================] - 0s 3ms/step - loss: 0.0525 - accuracy: 0.0053\n",
      "Epoch 57/100\n",
      "6/6 [==============================] - 0s 2ms/step - loss: 0.0519 - accuracy: 0.0053\n",
      "Epoch 58/100\n",
      "6/6 [==============================] - 0s 3ms/step - loss: 0.0512 - accuracy: 0.0053\n",
      "Epoch 59/100\n",
      "6/6 [==============================] - 0s 3ms/step - loss: 0.0506 - accuracy: 0.0053\n",
      "Epoch 60/100\n",
      "6/6 [==============================] - 0s 3ms/step - loss: 0.0500 - accuracy: 0.0053\n",
      "Epoch 61/100\n",
      "6/6 [==============================] - 0s 3ms/step - loss: 0.0494 - accuracy: 0.0053\n",
      "Epoch 62/100\n",
      "6/6 [==============================] - 0s 3ms/step - loss: 0.0488 - accuracy: 0.0053\n",
      "Epoch 63/100\n",
      "6/6 [==============================] - 0s 3ms/step - loss: 0.0482 - accuracy: 0.0053\n",
      "Epoch 64/100\n",
      "6/6 [==============================] - 0s 3ms/step - loss: 0.0476 - accuracy: 0.0053\n",
      "Epoch 65/100\n",
      "6/6 [==============================] - 0s 3ms/step - loss: 0.0471 - accuracy: 0.0053\n",
      "Epoch 66/100\n",
      "6/6 [==============================] - 0s 3ms/step - loss: 0.0465 - accuracy: 0.0053\n",
      "Epoch 67/100\n",
      "6/6 [==============================] - 0s 3ms/step - loss: 0.0460 - accuracy: 0.0053\n",
      "Epoch 68/100\n",
      "6/6 [==============================] - 0s 3ms/step - loss: 0.0454 - accuracy: 0.0053\n",
      "Epoch 69/100\n",
      "6/6 [==============================] - 0s 3ms/step - loss: 0.0449 - accuracy: 0.0053\n",
      "Epoch 70/100\n",
      "6/6 [==============================] - 0s 3ms/step - loss: 0.0444 - accuracy: 0.0053\n",
      "Epoch 71/100\n",
      "6/6 [==============================] - 0s 2ms/step - loss: 0.0439 - accuracy: 0.0053\n",
      "Epoch 72/100\n",
      "6/6 [==============================] - 0s 3ms/step - loss: 0.0434 - accuracy: 0.0053\n",
      "Epoch 73/100\n",
      "6/6 [==============================] - 0s 3ms/step - loss: 0.0429 - accuracy: 0.0053\n",
      "Epoch 74/100\n",
      "6/6 [==============================] - 0s 2ms/step - loss: 0.0424 - accuracy: 0.0053\n",
      "Epoch 75/100\n",
      "6/6 [==============================] - 0s 3ms/step - loss: 0.0420 - accuracy: 0.0053\n",
      "Epoch 76/100\n",
      "6/6 [==============================] - 0s 3ms/step - loss: 0.0415 - accuracy: 0.0053\n",
      "Epoch 77/100\n",
      "6/6 [==============================] - 0s 3ms/step - loss: 0.0410 - accuracy: 0.0053\n",
      "Epoch 78/100\n",
      "6/6 [==============================] - 0s 10ms/step - loss: 0.0406 - accuracy: 0.0053\n",
      "Epoch 79/100\n",
      "6/6 [==============================] - 0s 3ms/step - loss: 0.0401 - accuracy: 0.0053\n",
      "Epoch 80/100\n",
      "6/6 [==============================] - 0s 4ms/step - loss: 0.0397 - accuracy: 0.0053\n",
      "Epoch 81/100\n",
      "6/6 [==============================] - 0s 2ms/step - loss: 0.0393 - accuracy: 0.0053\n",
      "Epoch 82/100\n",
      "6/6 [==============================] - 0s 3ms/step - loss: 0.0389 - accuracy: 0.0053\n",
      "Epoch 83/100\n",
      "6/6 [==============================] - 0s 3ms/step - loss: 0.0385 - accuracy: 0.0053\n",
      "Epoch 84/100\n",
      "6/6 [==============================] - 0s 3ms/step - loss: 0.0380 - accuracy: 0.0053\n",
      "Epoch 85/100\n",
      "6/6 [==============================] - 0s 3ms/step - loss: 0.0377 - accuracy: 0.0053\n",
      "Epoch 86/100\n",
      "6/6 [==============================] - 0s 3ms/step - loss: 0.0373 - accuracy: 0.0053\n",
      "Epoch 87/100\n",
      "6/6 [==============================] - 0s 4ms/step - loss: 0.0369 - accuracy: 0.0053\n",
      "Epoch 88/100\n",
      "6/6 [==============================] - 0s 3ms/step - loss: 0.0365 - accuracy: 0.0053\n",
      "Epoch 89/100\n",
      "6/6 [==============================] - 0s 3ms/step - loss: 0.0361 - accuracy: 0.0053\n",
      "Epoch 90/100\n",
      "6/6 [==============================] - 0s 4ms/step - loss: 0.0357 - accuracy: 0.0053\n",
      "Epoch 91/100\n",
      "6/6 [==============================] - 0s 4ms/step - loss: 0.0354 - accuracy: 0.0053\n",
      "Epoch 92/100\n",
      "6/6 [==============================] - 0s 4ms/step - loss: 0.0350 - accuracy: 0.0053\n",
      "Epoch 93/100\n",
      "6/6 [==============================] - 0s 5ms/step - loss: 0.0347 - accuracy: 0.0053\n",
      "Epoch 94/100\n",
      "6/6 [==============================] - 0s 3ms/step - loss: 0.0343 - accuracy: 0.0053\n",
      "Epoch 95/100\n",
      "6/6 [==============================] - 0s 4ms/step - loss: 0.0340 - accuracy: 0.0053 \n",
      "Epoch 96/100\n",
      "6/6 [==============================] - 0s 4ms/step - loss: 0.0337 - accuracy: 0.0053\n",
      "Epoch 97/100\n",
      "6/6 [==============================] - 0s 4ms/step - loss: 0.0333 - accuracy: 0.0053\n",
      "Epoch 98/100\n",
      "6/6 [==============================] - 0s 3ms/step - loss: 0.0330 - accuracy: 0.0053\n",
      "Epoch 99/100\n",
      "6/6 [==============================] - 0s 4ms/step - loss: 0.0327 - accuracy: 0.0053\n",
      "Epoch 100/100\n",
      "6/6 [==============================] - 0s 4ms/step - loss: 0.0324 - accuracy: 0.0053\n"
     ]
    }
   ],
   "source": [
    "model_fit = model.fit(X_train_scaled, y_train, epochs=100)"
   ]
  },
  {
   "cell_type": "code",
   "execution_count": 78,
   "id": "4aa64487-300d-42e3-8cde-24b89a25a019",
   "metadata": {},
   "outputs": [
    {
     "data": {
      "text/plain": [
       "<AxesSubplot:>"
      ]
     },
     "execution_count": 78,
     "metadata": {},
     "output_type": "execute_result"
    },
    {
     "data": {
      "image/png": "[encoded data removed]",
      "text/plain": [
       "<Figure size 432x288 with 1 Axes>"
      ]
     },
     "metadata": {
      "needs_background": "light"
     },
     "output_type": "display_data"
    },
    {
     "data": {
      "image/png": "[encoded data removed]",
      "text/plain": [
       "<Figure size 432x288 with 1 Axes>"
      ]
     },
     "metadata": {
      "needs_background": "light"
     },
     "output_type": "display_data"
    }
   ],
   "source": [
    "# Create a DataFrame with the history dictionary\n",
    "df = pd.DataFrame(model_fit.history, index=range(1, len(model_fit.history[\"loss\"]) + 1))\n",
    "\n",
    "# Plot the loss\n",
    "df.plot(y=\"loss\")\n",
    "\n",
    "# Plot the accuracy\n",
    "df.plot(y=\"accuracy\")"
   ]
  },
  {
   "cell_type": "code",
   "execution_count": 79,
   "id": "49a446c3-3430-4141-a98a-246c8441a2fa",
   "metadata": {},
   "outputs": [
    {
     "name": "stdout",
     "output_type": "stream",
     "text": [
      "2/2 - 0s - loss: 0.0118 - accuracy: 0.0000e+00 - 23ms/epoch - 12ms/step\n",
      "Loss: 0.011795789934694767, Accuracy: 0.0\n"
     ]
    }
   ],
   "source": [
    "# Evaluate the model using testing data\n",
    "model_loss, model_accuracy = model.evaluate(X_test_scaled, y_test, verbose=2)\n",
    "\n",
    "# Display evaluation results\n",
    "print(f\"Loss: {model_loss}, Accuracy: {model_accuracy}\")"
   ]
  },
  {
   "cell_type": "code",
   "execution_count": 74,
   "id": "7de6325e-da6f-47c1-b75f-f4a16d914535",
   "metadata": {},
   "outputs": [
    {
     "ename": "TypeError",
     "evalue": "'History' object is not subscriptable",
     "output_type": "error",
     "traceback": [
      "\u001b[1;31m---------------------------------------------------------------------------\u001b[0m",
      "\u001b[1;31mTypeError\u001b[0m                                 Traceback (most recent call last)",
      "\u001b[1;32m~\\AppData\\Local\\Temp\\ipykernel_11600\\4211866098.py\u001b[0m in \u001b[0;36m<module>\u001b[1;34m\u001b[0m\n\u001b[0;32m      1\u001b[0m \u001b[1;31m# Create a DataFrame with the history dictionary\u001b[0m\u001b[1;33m\u001b[0m\u001b[1;33m\u001b[0m\u001b[1;33m\u001b[0m\u001b[0m\n\u001b[1;32m----> 2\u001b[1;33m \u001b[0mdf\u001b[0m \u001b[1;33m=\u001b[0m \u001b[0mpd\u001b[0m\u001b[1;33m.\u001b[0m\u001b[0mDataFrame\u001b[0m\u001b[1;33m(\u001b[0m\u001b[0mmodel_fit\u001b[0m\u001b[1;33m.\u001b[0m\u001b[0mhistory\u001b[0m\u001b[1;33m,\u001b[0m \u001b[0mindex\u001b[0m\u001b[1;33m=\u001b[0m\u001b[0mrange\u001b[0m\u001b[1;33m(\u001b[0m\u001b[1;36m1\u001b[0m\u001b[1;33m,\u001b[0m \u001b[0mlen\u001b[0m\u001b[1;33m(\u001b[0m\u001b[0mmodel\u001b[0m\u001b[1;33m.\u001b[0m\u001b[0mhistory\u001b[0m\u001b[1;33m[\u001b[0m\u001b[1;34m\"loss\"\u001b[0m\u001b[1;33m]\u001b[0m\u001b[1;33m)\u001b[0m \u001b[1;33m+\u001b[0m \u001b[1;36m1\u001b[0m\u001b[1;33m)\u001b[0m\u001b[1;33m)\u001b[0m\u001b[1;33m\u001b[0m\u001b[1;33m\u001b[0m\u001b[0m\n\u001b[0m\u001b[0;32m      3\u001b[0m \u001b[1;33m\u001b[0m\u001b[0m\n\u001b[0;32m      4\u001b[0m \u001b[1;31m# Plot the loss\u001b[0m\u001b[1;33m\u001b[0m\u001b[1;33m\u001b[0m\u001b[1;33m\u001b[0m\u001b[0m\n\u001b[0;32m      5\u001b[0m \u001b[0mdf\u001b[0m\u001b[1;33m.\u001b[0m\u001b[0mplot\u001b[0m\u001b[1;33m(\u001b[0m\u001b[0my\u001b[0m\u001b[1;33m=\u001b[0m\u001b[1;34m\"loss\"\u001b[0m\u001b[1;33m)\u001b[0m\u001b[1;33m\u001b[0m\u001b[1;33m\u001b[0m\u001b[0m\n",
      "\u001b[1;31mTypeError\u001b[0m: 'History' object is not subscriptable"
     ]
    }
   ],
   "source": []
  },
  {
   "cell_type": "code",
   "execution_count": null,
   "id": "c63b0fa6-15c3-4594-a3d9-3c03bd88d510",
   "metadata": {},
   "outputs": [],
   "source": []
  }
 ],
 "metadata": {
  "kernelspec": {
   "display_name": "dev",
   "language": "python",
   "name": "dev"
  },
  "language_info": {
   "codemirror_mode": {
    "name": "ipython",
    "version": 3
   },
   "file_extension": ".py",
   "mimetype": "text/x-python",
   "name": "python",
   "nbconvert_exporter": "python",
   "pygments_lexer": "ipython3",
   "version": "3.7.11"
  }
 },
 "nbformat": 4,
 "nbformat_minor": 5
}
